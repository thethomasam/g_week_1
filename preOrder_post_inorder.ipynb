{
 "cells": [
  {
   "cell_type": "code",
   "execution_count": 1,
   "metadata": {},
   "outputs": [],
   "source": [
    "class Node:\n",
    "    def __init__(self,data):\n",
    "        self.data=data\n",
    "        self.left=None\n",
    "        self.right=None"
   ]
  },
  {
   "cell_type": "code",
   "execution_count": 6,
   "metadata": {},
   "outputs": [],
   "source": [
    "\n",
    "n1=Node(1)\n",
    "n2=Node(2)\n",
    "n3=Node(3)\n",
    "n4=Node(4)\n",
    "n5=Node(5)\n",
    "n6=Node(6)"
   ]
  },
  {
   "cell_type": "code",
   "execution_count": 23,
   "metadata": {},
   "outputs": [
    {
     "data": {
      "text/plain": [
       "[4, 2, 1, 6, 3, 5]"
      ]
     },
     "execution_count": 23,
     "metadata": {},
     "output_type": "execute_result"
    }
   ],
   "source": [
    "class Tree:\n",
    "    \n",
    "    def __init__(self):\n",
    "        self.head=None\n",
    "    def preOrderTraversal(self,node):\n",
    "\n",
    "        #base cond\n",
    "        if node.left==None and node.right==None:\n",
    "            return [node.data]\n",
    "        else:\n",
    "            if node.left!=None and node.right!=None:\n",
    "                return [node.data]+self.preOrderTraversal(node.left)+self.preOrderTraversal(node.right)\n",
    "            elif node.left==None:\n",
    "                return [node.data]+self.preOrderTraversal(node.right)\n",
    "            elif node.right==None:\n",
    "                return [node.data]+self.preOrderTraversal(node.left)\n",
    "            \n",
    "    def postOrderTraversal(self,node):\n",
    "        if node.left==None and node.right==None:\n",
    "            return [node.data]\n",
    "        else:\n",
    "            if node.left!=None and node.right!=None:\n",
    "                return self.postOrderTraversal(node.left)+self.preOrderTraversal(node.right)+\\\n",
    "            [node.data]\n",
    "            elif node.left==None:\n",
    "                return self.postOrderTraversal(node.right)+[node.data]\n",
    "            elif node.right==None:\n",
    "                return self.postOrderTraversal(node.left)+[node.data]\n",
    "            \n",
    "    def inOrderTraversal(self,node):\n",
    "        if node.left==None and node.right==None:\n",
    "            return [node.data]\n",
    "        else:\n",
    "            if node.left!=None and node.right!=None:\n",
    "                return self.inOrderTraversal(node.left)+[node.data]+self.inOrderTraversal(node.right)\n",
    "            \n",
    "            elif node.left==None:\n",
    "                return self.inOrderTraversal(node.right)+[node.data]\n",
    "            elif node.right==None:\n",
    "                return self.inOrderTraversal(node.left)+[node.data]\n",
    "        \n",
    "        \n",
    "                \n",
    "                \n",
    "                \n",
    "        \n",
    "\n",
    "        \n",
    "\n",
    "    \n",
    "t1=Tree()\n",
    "t1.head=n1\n",
    "\n",
    "n1.right=n3\n",
    "n1.left=n2\n",
    "n2.left=n4\n",
    "n3.left=n6\n",
    "n3.right=n5\n",
    "\n",
    "t1.preOrderTraversal(t1.head)\n",
    "t1.postOrderTraversal(t1.head)\n",
    "(t1.inOrderTraversal(t1.head))\n",
    "\n",
    "\n",
    "\n",
    "\n"
   ]
  },
  {
   "cell_type": "code",
   "execution_count": 14,
   "metadata": {},
   "outputs": [
    {
     "name": "stdout",
     "output_type": "stream",
     "text": [
      "[1, 2]\n"
     ]
    }
   ],
   "source": [
    "z=[1]+[2]\n",
    "print(z)"
   ]
  },
  {
   "cell_type": "code",
   "execution_count": null,
   "metadata": {},
   "outputs": [],
   "source": []
  }
 ],
 "metadata": {
  "kernelspec": {
   "display_name": "Python 3",
   "language": "python",
   "name": "python3"
  },
  "language_info": {
   "codemirror_mode": {
    "name": "ipython",
    "version": 3
   },
   "file_extension": ".py",
   "mimetype": "text/x-python",
   "name": "python",
   "nbconvert_exporter": "python",
   "pygments_lexer": "ipython3",
   "version": "3.6.13"
  }
 },
 "nbformat": 4,
 "nbformat_minor": 4
}
